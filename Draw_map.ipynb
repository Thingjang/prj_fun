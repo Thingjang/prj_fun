{
 "cells": [
  {
   "cell_type": "markdown",
   "id": "e06617cd-67f4-449f-ba5d-b4c501fa974f",
   "metadata": {},
   "source": [
    "### Project: Score distribution for groups A0, B0 and A1 in the 2023 national high school exam\n"
   ]
  },
  {
   "cell_type": "markdown",
   "id": "73670762-af42-4894-bbcd-29cd006e50ea",
   "metadata": {},
   "source": [
    "##### Import Libraries"
   ]
  },
  {
   "cell_type": "code",
   "execution_count": 46,
   "id": "6b4d583b-1497-4e4c-affa-2091d46b8477",
   "metadata": {},
   "outputs": [],
   "source": [
    "import pandas as pd\n",
    "import numpy as np\n",
    "import matplotlib.pyplot as plt"
   ]
  },
  {
   "cell_type": "code",
   "execution_count": 47,
   "id": "428f68f8-22ea-43dd-80e3-c6c7ff7c2855",
   "metadata": {},
   "outputs": [
    {
     "data": {
      "text/html": [
       "<div>\n",
       "<style scoped>\n",
       "    .dataframe tbody tr th:only-of-type {\n",
       "        vertical-align: middle;\n",
       "    }\n",
       "\n",
       "    .dataframe tbody tr th {\n",
       "        vertical-align: top;\n",
       "    }\n",
       "\n",
       "    .dataframe thead th {\n",
       "        text-align: right;\n",
       "    }\n",
       "</style>\n",
       "<table border=\"1\" class=\"dataframe\">\n",
       "  <thead>\n",
       "    <tr style=\"text-align: right;\">\n",
       "      <th></th>\n",
       "      <th>sbd</th>\n",
       "      <th>toan</th>\n",
       "      <th>ngu_van</th>\n",
       "      <th>ngoai_ngu</th>\n",
       "      <th>vat_li</th>\n",
       "      <th>hoa_hoc</th>\n",
       "      <th>sinh_hoc</th>\n",
       "      <th>lich_su</th>\n",
       "      <th>dia_li</th>\n",
       "      <th>gdcd</th>\n",
       "      <th>ma_ngoai_ngu</th>\n",
       "    </tr>\n",
       "  </thead>\n",
       "  <tbody>\n",
       "    <tr>\n",
       "      <th>0</th>\n",
       "      <td>1000001</td>\n",
       "      <td>8.4</td>\n",
       "      <td>8.50</td>\n",
       "      <td>9.2</td>\n",
       "      <td>NaN</td>\n",
       "      <td>NaN</td>\n",
       "      <td>NaN</td>\n",
       "      <td>6.75</td>\n",
       "      <td>6.00</td>\n",
       "      <td>9.00</td>\n",
       "      <td>N1</td>\n",
       "    </tr>\n",
       "    <tr>\n",
       "      <th>1</th>\n",
       "      <td>1000002</td>\n",
       "      <td>7.2</td>\n",
       "      <td>8.50</td>\n",
       "      <td>9.2</td>\n",
       "      <td>NaN</td>\n",
       "      <td>NaN</td>\n",
       "      <td>NaN</td>\n",
       "      <td>8.75</td>\n",
       "      <td>6.50</td>\n",
       "      <td>8.50</td>\n",
       "      <td>N1</td>\n",
       "    </tr>\n",
       "    <tr>\n",
       "      <th>2</th>\n",
       "      <td>1000003</td>\n",
       "      <td>NaN</td>\n",
       "      <td>6.50</td>\n",
       "      <td>NaN</td>\n",
       "      <td>NaN</td>\n",
       "      <td>NaN</td>\n",
       "      <td>NaN</td>\n",
       "      <td>9.25</td>\n",
       "      <td>7.50</td>\n",
       "      <td>NaN</td>\n",
       "      <td>NaN</td>\n",
       "    </tr>\n",
       "    <tr>\n",
       "      <th>3</th>\n",
       "      <td>1000004</td>\n",
       "      <td>7.8</td>\n",
       "      <td>8.25</td>\n",
       "      <td>7.8</td>\n",
       "      <td>NaN</td>\n",
       "      <td>NaN</td>\n",
       "      <td>NaN</td>\n",
       "      <td>4.50</td>\n",
       "      <td>6.25</td>\n",
       "      <td>8.25</td>\n",
       "      <td>N1</td>\n",
       "    </tr>\n",
       "    <tr>\n",
       "      <th>4</th>\n",
       "      <td>1000005</td>\n",
       "      <td>7.2</td>\n",
       "      <td>8.00</td>\n",
       "      <td>7.8</td>\n",
       "      <td>NaN</td>\n",
       "      <td>NaN</td>\n",
       "      <td>NaN</td>\n",
       "      <td>4.75</td>\n",
       "      <td>6.75</td>\n",
       "      <td>8.25</td>\n",
       "      <td>N1</td>\n",
       "    </tr>\n",
       "    <tr>\n",
       "      <th>5</th>\n",
       "      <td>1000006</td>\n",
       "      <td>7.6</td>\n",
       "      <td>9.25</td>\n",
       "      <td>9.0</td>\n",
       "      <td>NaN</td>\n",
       "      <td>NaN</td>\n",
       "      <td>NaN</td>\n",
       "      <td>8.50</td>\n",
       "      <td>7.25</td>\n",
       "      <td>9.75</td>\n",
       "      <td>N1</td>\n",
       "    </tr>\n",
       "    <tr>\n",
       "      <th>6</th>\n",
       "      <td>1000007</td>\n",
       "      <td>5.6</td>\n",
       "      <td>7.00</td>\n",
       "      <td>6.4</td>\n",
       "      <td>NaN</td>\n",
       "      <td>NaN</td>\n",
       "      <td>NaN</td>\n",
       "      <td>4.75</td>\n",
       "      <td>5.75</td>\n",
       "      <td>8.00</td>\n",
       "      <td>N1</td>\n",
       "    </tr>\n",
       "    <tr>\n",
       "      <th>7</th>\n",
       "      <td>1000008</td>\n",
       "      <td>7.2</td>\n",
       "      <td>7.50</td>\n",
       "      <td>6.0</td>\n",
       "      <td>5.0</td>\n",
       "      <td>3.5</td>\n",
       "      <td>1.75</td>\n",
       "      <td>NaN</td>\n",
       "      <td>NaN</td>\n",
       "      <td>NaN</td>\n",
       "      <td>N1</td>\n",
       "    </tr>\n",
       "    <tr>\n",
       "      <th>8</th>\n",
       "      <td>1000009</td>\n",
       "      <td>7.6</td>\n",
       "      <td>8.25</td>\n",
       "      <td>9.0</td>\n",
       "      <td>NaN</td>\n",
       "      <td>NaN</td>\n",
       "      <td>NaN</td>\n",
       "      <td>6.50</td>\n",
       "      <td>7.25</td>\n",
       "      <td>9.50</td>\n",
       "      <td>N1</td>\n",
       "    </tr>\n",
       "    <tr>\n",
       "      <th>9</th>\n",
       "      <td>1000010</td>\n",
       "      <td>8.2</td>\n",
       "      <td>9.50</td>\n",
       "      <td>7.0</td>\n",
       "      <td>NaN</td>\n",
       "      <td>NaN</td>\n",
       "      <td>NaN</td>\n",
       "      <td>7.25</td>\n",
       "      <td>6.50</td>\n",
       "      <td>8.75</td>\n",
       "      <td>N1</td>\n",
       "    </tr>\n",
       "  </tbody>\n",
       "</table>\n",
       "</div>"
      ],
      "text/plain": [
       "       sbd  toan  ngu_van  ngoai_ngu  vat_li  hoa_hoc  sinh_hoc  lich_su  \\\n",
       "0  1000001   8.4     8.50        9.2     NaN      NaN       NaN     6.75   \n",
       "1  1000002   7.2     8.50        9.2     NaN      NaN       NaN     8.75   \n",
       "2  1000003   NaN     6.50        NaN     NaN      NaN       NaN     9.25   \n",
       "3  1000004   7.8     8.25        7.8     NaN      NaN       NaN     4.50   \n",
       "4  1000005   7.2     8.00        7.8     NaN      NaN       NaN     4.75   \n",
       "5  1000006   7.6     9.25        9.0     NaN      NaN       NaN     8.50   \n",
       "6  1000007   5.6     7.00        6.4     NaN      NaN       NaN     4.75   \n",
       "7  1000008   7.2     7.50        6.0     5.0      3.5      1.75      NaN   \n",
       "8  1000009   7.6     8.25        9.0     NaN      NaN       NaN     6.50   \n",
       "9  1000010   8.2     9.50        7.0     NaN      NaN       NaN     7.25   \n",
       "\n",
       "   dia_li  gdcd ma_ngoai_ngu  \n",
       "0    6.00  9.00           N1  \n",
       "1    6.50  8.50           N1  \n",
       "2    7.50   NaN          NaN  \n",
       "3    6.25  8.25           N1  \n",
       "4    6.75  8.25           N1  \n",
       "5    7.25  9.75           N1  \n",
       "6    5.75  8.00           N1  \n",
       "7     NaN   NaN           N1  \n",
       "8    7.25  9.50           N1  \n",
       "9    6.50  8.75           N1  "
      ]
     },
     "execution_count": 47,
     "metadata": {},
     "output_type": "execute_result"
    }
   ],
   "source": [
    "data=pd.read_csv('./Data/Diem_thi_thpt_2023.csv')\n",
    "data[:10]"
   ]
  },
  {
   "cell_type": "code",
   "execution_count": 48,
   "id": "e1117528-293d-44ac-ad8d-a33c46fa5545",
   "metadata": {},
   "outputs": [],
   "source": [
    "column1 = 'toan'\n",
    "column2 = 'vat_li'\n",
    "column3 = 'hoa_hoc'"
   ]
  },
  {
   "cell_type": "code",
   "execution_count": 49,
   "id": "88def0af-0eef-4636-991a-0df402e6af85",
   "metadata": {},
   "outputs": [],
   "source": [
    "data['total_1'] = data[column1] + data[column2] + data[column3]"
   ]
  },
  {
   "cell_type": "code",
   "execution_count": 50,
   "id": "da58c48f-4114-49b5-af8a-f4f69a6b6566",
   "metadata": {},
   "outputs": [],
   "source": [
    "y=data['total_1']"
   ]
  },
  {
   "cell_type": "code",
   "execution_count": 51,
   "id": "da8dc880-fb04-407e-bc06-308b4e0f0ef0",
   "metadata": {},
   "outputs": [
    {
     "data": {
      "text/plain": [
       "0     NaN\n",
       "1     NaN\n",
       "2     NaN\n",
       "3     NaN\n",
       "4     NaN\n",
       "5     NaN\n",
       "6     NaN\n",
       "7    15.7\n",
       "8     NaN\n",
       "9     NaN\n",
       "Name: total_1, dtype: float64"
      ]
     },
     "execution_count": 51,
     "metadata": {},
     "output_type": "execute_result"
    }
   ],
   "source": [
    "y[:10]"
   ]
  },
  {
   "cell_type": "code",
   "execution_count": 52,
   "id": "c0890b09-20f1-4522-a892-320285afe87b",
   "metadata": {},
   "outputs": [
    {
     "data": {
      "text/plain": [
       "20.774499389386996"
      ]
     },
     "execution_count": 52,
     "metadata": {},
     "output_type": "execute_result"
    }
   ],
   "source": [
    "#arg\n",
    "np.mean(y)"
   ]
  },
  {
   "cell_type": "code",
   "execution_count": 53,
   "id": "906305e4-e177-42da-a13b-8a505c42f713",
   "metadata": {},
   "outputs": [
    {
     "data": {
      "text/plain": [
       "0.45"
      ]
     },
     "execution_count": 53,
     "metadata": {},
     "output_type": "execute_result"
    }
   ],
   "source": [
    "np.min(y)"
   ]
  },
  {
   "cell_type": "code",
   "execution_count": 54,
   "id": "411eb2de-ee23-4a1a-b493-04f0fb6be6da",
   "metadata": {},
   "outputs": [
    {
     "data": {
      "text/plain": [
       "29.35"
      ]
     },
     "execution_count": 54,
     "metadata": {},
     "output_type": "execute_result"
    }
   ],
   "source": [
    "np.max(y)"
   ]
  },
  {
   "cell_type": "code",
   "execution_count": 75,
   "id": "2970809c-6463-42ad-bd65-63b374529f9f",
   "metadata": {},
   "outputs": [],
   "source": [
    "u=np.array([y])"
   ]
  },
  {
   "cell_type": "code",
   "execution_count": 56,
   "id": "ac226cf6-9b8d-424e-a970-2f6fce9f561c",
   "metadata": {},
   "outputs": [
    {
     "data": {
      "text/plain": [
       "1022060"
      ]
     },
     "execution_count": 56,
     "metadata": {},
     "output_type": "execute_result"
    }
   ],
   "source": [
    "#np.linspace(0,1,5)~0->5, 5 piece\n",
    "#np.concateate((grid, grid, axis=0 or 1 col or row)\n",
    "u.size"
   ]
  },
  {
   "cell_type": "code",
   "execution_count": 57,
   "id": "8c75a2ae-9a85-41e4-b4db-5c18986cd880",
   "metadata": {},
   "outputs": [],
   "source": [
    "plt.style.available\n",
    "plt.style.use('dark_background')"
   ]
  },
  {
   "cell_type": "code",
   "execution_count": 58,
   "id": "6e34d62f-2995-4a9d-aab1-f1cd7b10a6ac",
   "metadata": {},
   "outputs": [
    {
     "data": {
      "text/plain": [
       "<matplotlib.legend.Legend at 0x2a319bcebd0>"
      ]
     },
     "execution_count": 58,
     "metadata": {},
     "output_type": "execute_result"
    },
    {
     "data": {
      "image/png": "[encoded data removed]",
      "text/plain": [
       "<Figure size 640x480 with 1 Axes>"
      ]
     },
     "metadata": {},
     "output_type": "display_data"
    }
   ],
   "source": [
    "plt.hist(y, bins=300,color=\"white\",linestyle=\"dashed\", label = \"student\");\n",
    "\n",
    "plt.title(\"A0\")\n",
    "plt.xlabel(\"mark\")\n",
    "plt.ylabel(\"quality\");\n",
    "plt.legend()"
   ]
  },
  {
   "cell_type": "code",
   "execution_count": 59,
   "id": "5e4d4b5d-22f1-4a35-ad43-77b1fb42618e",
   "metadata": {},
   "outputs": [],
   "source": [
    "column4 = 'ngu_van'\n",
    "column5 = 'ngoai_ngu'\n",
    "column6 ='sinh_hoc'"
   ]
  },
  {
   "cell_type": "code",
   "execution_count": 60,
   "id": "1a210081-65eb-4c81-ace3-17cd7fb96817",
   "metadata": {},
   "outputs": [],
   "source": [
    "data['total_2'] = data[column1] + data[column4] + data[column5]"
   ]
  },
  {
   "cell_type": "code",
   "execution_count": 61,
   "id": "deac1f59-d157-46f4-973a-27175dabdf14",
   "metadata": {},
   "outputs": [],
   "source": [
    "z=data['total_2']"
   ]
  },
  {
   "cell_type": "code",
   "execution_count": 62,
   "id": "a84f8703-38e6-4aca-898a-d6a20881baaf",
   "metadata": {},
   "outputs": [
    {
     "data": {
      "text/plain": [
       "18.903006171932574"
      ]
     },
     "execution_count": 62,
     "metadata": {},
     "output_type": "execute_result"
    }
   ],
   "source": [
    "np.mean(z)"
   ]
  },
  {
   "cell_type": "code",
   "execution_count": 63,
   "id": "61860f7e-012a-4e59-8437-b32e83229593",
   "metadata": {},
   "outputs": [
    {
     "data": {
      "text/plain": [
       "28.900000000000002"
      ]
     },
     "execution_count": 63,
     "metadata": {},
     "output_type": "execute_result"
    }
   ],
   "source": [
    "np.max(z)"
   ]
  },
  {
   "cell_type": "code",
   "execution_count": 66,
   "id": "a2858bd2-03d8-4e3d-8b94-8f47c19e0e76",
   "metadata": {},
   "outputs": [
    {
     "data": {
      "text/plain": [
       "<matplotlib.legend.Legend at 0x2a31a01ebd0>"
      ]
     },
     "execution_count": 66,
     "metadata": {},
     "output_type": "execute_result"
    },
    {
     "data": {
      "image/png": "[encoded data removed]",
      "text/plain": [
       "<Figure size 640x480 with 1 Axes>"
      ]
     },
     "metadata": {},
     "output_type": "display_data"
    }
   ],
   "source": [
    "plt.hist(z, bins=300,color=\"white\",linestyle=\"dashed\", label = \"student\");\n",
    "\n",
    "plt.title(\"A1\")\n",
    "plt.xlabel(\"mark\")\n",
    "plt.ylabel(\"quality\");\n",
    "plt.legend()"
   ]
  },
  {
   "cell_type": "code",
   "execution_count": 67,
   "id": "fad4e4f5-7ae8-4afc-8ff8-62092bb1a0d5",
   "metadata": {},
   "outputs": [],
   "source": [
    "data['total_3'] = data[column1] + data[column3] + data[column6]"
   ]
  },
  {
   "cell_type": "code",
   "execution_count": 68,
   "id": "351a4f9a-8852-4bc3-929b-af91353b151b",
   "metadata": {},
   "outputs": [],
   "source": [
    "t=data['total_3']"
   ]
  },
  {
   "cell_type": "code",
   "execution_count": 69,
   "id": "6a855fab-1b10-4c17-8e3c-4f963011f006",
   "metadata": {},
   "outputs": [
    {
     "data": {
      "text/plain": [
       "20.604732802553652"
      ]
     },
     "execution_count": 69,
     "metadata": {},
     "output_type": "execute_result"
    }
   ],
   "source": [
    "np.mean(t)"
   ]
  },
  {
   "cell_type": "code",
   "execution_count": 70,
   "id": "67b4c9e5-37ef-4d08-9238-a358c14ec73d",
   "metadata": {},
   "outputs": [
    {
     "data": {
      "text/plain": [
       "29.8"
      ]
     },
     "execution_count": 70,
     "metadata": {},
     "output_type": "execute_result"
    }
   ],
   "source": [
    "np.max(t)"
   ]
  },
  {
   "cell_type": "code",
   "execution_count": 73,
   "id": "3109ebda-83f4-4c58-a20f-a6f32622bfa3",
   "metadata": {},
   "outputs": [
    {
     "data": {
      "text/plain": [
       "<matplotlib.legend.Legend at 0x2a31a13ebd0>"
      ]
     },
     "execution_count": 73,
     "metadata": {},
     "output_type": "execute_result"
    },
    {
     "data": {
      "image/png": "[encoded data removed]",
      "text/plain": [
       "<Figure size 640x480 with 1 Axes>"
      ]
     },
     "metadata": {},
     "output_type": "display_data"
    }
   ],
   "source": [
    "plt.hist(t, bins=300,color=\"white\",linestyle=\"dashed\", label = \"student\");\n",
    "\n",
    "plt.title(\"B0\")\n",
    "plt.xlabel(\"mark\")\n",
    "plt.ylabel(\"quality\");\n",
    "plt.legend()"
   ]
  }
 ],
 "metadata": {
  "kernelspec": {
   "display_name": "Python 3 (ipykernel)",
   "language": "python",
   "name": "python3"
  },
  "language_info": {
   "codemirror_mode": {
    "name": "ipython",
    "version": 3
   },
   "file_extension": ".py",
   "mimetype": "text/x-python",
   "name": "python",
   "nbconvert_exporter": "python",
   "pygments_lexer": "ipython3",
   "version": "3.11.7"
  }
 },
 "nbformat": 4,
 "nbformat_minor": 5
}
