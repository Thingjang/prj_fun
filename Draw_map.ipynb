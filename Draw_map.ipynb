{
 "cells": [
  {
   "cell_type": "markdown",
   "id": "e06617cd-67f4-449f-ba5d-b4c501fa974f",
   "metadata": {},
   "source": [
    "### Project: Score distribution for groups A0 and A1 in the 2023 national high school exam\n"
   ]
  },
  {
   "cell_type": "markdown",
   "id": "73670762-af42-4894-bbcd-29cd006e50ea",
   "metadata": {},
   "source": [
    "##### Import Libraries"
   ]
  },
  {
   "cell_type": "code",
   "execution_count": 10,
   "id": "6b4d583b-1497-4e4c-affa-2091d46b8477",
   "metadata": {},
   "outputs": [],
   "source": [
    "import pandas as pd\n",
    "import numpy as np\n",
    "import matplotlib.pyplot as plt"
   ]
  },
  {
   "cell_type": "code",
   "execution_count": 11,
   "id": "428f68f8-22ea-43dd-80e3-c6c7ff7c2855",
   "metadata": {},
   "outputs": [
    {
     "data": {
      "text/html": [
       "<div>\n",
       "<style scoped>\n",
       "    .dataframe tbody tr th:only-of-type {\n",
       "        vertical-align: middle;\n",
       "    }\n",
       "\n",
       "    .dataframe tbody tr th {\n",
       "        vertical-align: top;\n",
       "    }\n",
       "\n",
       "    .dataframe thead th {\n",
       "        text-align: right;\n",
       "    }\n",
       "</style>\n",
       "<table border=\"1\" class=\"dataframe\">\n",
       "  <thead>\n",
       "    <tr style=\"text-align: right;\">\n",
       "      <th></th>\n",
       "      <th>sbd</th>\n",
       "      <th>toan</th>\n",
       "      <th>ngu_van</th>\n",
       "      <th>ngoai_ngu</th>\n",
       "      <th>vat_li</th>\n",
       "      <th>hoa_hoc</th>\n",
       "      <th>sinh_hoc</th>\n",
       "      <th>lich_su</th>\n",
       "      <th>dia_li</th>\n",
       "      <th>gdcd</th>\n",
       "      <th>ma_ngoai_ngu</th>\n",
       "    </tr>\n",
       "  </thead>\n",
       "  <tbody>\n",
       "    <tr>\n",
       "      <th>0</th>\n",
       "      <td>1000001</td>\n",
       "      <td>8.4</td>\n",
       "      <td>8.50</td>\n",
       "      <td>9.2</td>\n",
       "      <td>NaN</td>\n",
       "      <td>NaN</td>\n",
       "      <td>NaN</td>\n",
       "      <td>6.75</td>\n",
       "      <td>6.00</td>\n",
       "      <td>9.00</td>\n",
       "      <td>N1</td>\n",
       "    </tr>\n",
       "    <tr>\n",
       "      <th>1</th>\n",
       "      <td>1000002</td>\n",
       "      <td>7.2</td>\n",
       "      <td>8.50</td>\n",
       "      <td>9.2</td>\n",
       "      <td>NaN</td>\n",
       "      <td>NaN</td>\n",
       "      <td>NaN</td>\n",
       "      <td>8.75</td>\n",
       "      <td>6.50</td>\n",
       "      <td>8.50</td>\n",
       "      <td>N1</td>\n",
       "    </tr>\n",
       "    <tr>\n",
       "      <th>2</th>\n",
       "      <td>1000003</td>\n",
       "      <td>NaN</td>\n",
       "      <td>6.50</td>\n",
       "      <td>NaN</td>\n",
       "      <td>NaN</td>\n",
       "      <td>NaN</td>\n",
       "      <td>NaN</td>\n",
       "      <td>9.25</td>\n",
       "      <td>7.50</td>\n",
       "      <td>NaN</td>\n",
       "      <td>NaN</td>\n",
       "    </tr>\n",
       "    <tr>\n",
       "      <th>3</th>\n",
       "      <td>1000004</td>\n",
       "      <td>7.8</td>\n",
       "      <td>8.25</td>\n",
       "      <td>7.8</td>\n",
       "      <td>NaN</td>\n",
       "      <td>NaN</td>\n",
       "      <td>NaN</td>\n",
       "      <td>4.50</td>\n",
       "      <td>6.25</td>\n",
       "      <td>8.25</td>\n",
       "      <td>N1</td>\n",
       "    </tr>\n",
       "    <tr>\n",
       "      <th>4</th>\n",
       "      <td>1000005</td>\n",
       "      <td>7.2</td>\n",
       "      <td>8.00</td>\n",
       "      <td>7.8</td>\n",
       "      <td>NaN</td>\n",
       "      <td>NaN</td>\n",
       "      <td>NaN</td>\n",
       "      <td>4.75</td>\n",
       "      <td>6.75</td>\n",
       "      <td>8.25</td>\n",
       "      <td>N1</td>\n",
       "    </tr>\n",
       "    <tr>\n",
       "      <th>5</th>\n",
       "      <td>1000006</td>\n",
       "      <td>7.6</td>\n",
       "      <td>9.25</td>\n",
       "      <td>9.0</td>\n",
       "      <td>NaN</td>\n",
       "      <td>NaN</td>\n",
       "      <td>NaN</td>\n",
       "      <td>8.50</td>\n",
       "      <td>7.25</td>\n",
       "      <td>9.75</td>\n",
       "      <td>N1</td>\n",
       "    </tr>\n",
       "    <tr>\n",
       "      <th>6</th>\n",
       "      <td>1000007</td>\n",
       "      <td>5.6</td>\n",
       "      <td>7.00</td>\n",
       "      <td>6.4</td>\n",
       "      <td>NaN</td>\n",
       "      <td>NaN</td>\n",
       "      <td>NaN</td>\n",
       "      <td>4.75</td>\n",
       "      <td>5.75</td>\n",
       "      <td>8.00</td>\n",
       "      <td>N1</td>\n",
       "    </tr>\n",
       "    <tr>\n",
       "      <th>7</th>\n",
       "      <td>1000008</td>\n",
       "      <td>7.2</td>\n",
       "      <td>7.50</td>\n",
       "      <td>6.0</td>\n",
       "      <td>5.0</td>\n",
       "      <td>3.5</td>\n",
       "      <td>1.75</td>\n",
       "      <td>NaN</td>\n",
       "      <td>NaN</td>\n",
       "      <td>NaN</td>\n",
       "      <td>N1</td>\n",
       "    </tr>\n",
       "    <tr>\n",
       "      <th>8</th>\n",
       "      <td>1000009</td>\n",
       "      <td>7.6</td>\n",
       "      <td>8.25</td>\n",
       "      <td>9.0</td>\n",
       "      <td>NaN</td>\n",
       "      <td>NaN</td>\n",
       "      <td>NaN</td>\n",
       "      <td>6.50</td>\n",
       "      <td>7.25</td>\n",
       "      <td>9.50</td>\n",
       "      <td>N1</td>\n",
       "    </tr>\n",
       "    <tr>\n",
       "      <th>9</th>\n",
       "      <td>1000010</td>\n",
       "      <td>8.2</td>\n",
       "      <td>9.50</td>\n",
       "      <td>7.0</td>\n",
       "      <td>NaN</td>\n",
       "      <td>NaN</td>\n",
       "      <td>NaN</td>\n",
       "      <td>7.25</td>\n",
       "      <td>6.50</td>\n",
       "      <td>8.75</td>\n",
       "      <td>N1</td>\n",
       "    </tr>\n",
       "  </tbody>\n",
       "</table>\n",
       "</div>"
      ],
      "text/plain": [
       "       sbd  toan  ngu_van  ngoai_ngu  vat_li  hoa_hoc  sinh_hoc  lich_su  \\\n",
       "0  1000001   8.4     8.50        9.2     NaN      NaN       NaN     6.75   \n",
       "1  1000002   7.2     8.50        9.2     NaN      NaN       NaN     8.75   \n",
       "2  1000003   NaN     6.50        NaN     NaN      NaN       NaN     9.25   \n",
       "3  1000004   7.8     8.25        7.8     NaN      NaN       NaN     4.50   \n",
       "4  1000005   7.2     8.00        7.8     NaN      NaN       NaN     4.75   \n",
       "5  1000006   7.6     9.25        9.0     NaN      NaN       NaN     8.50   \n",
       "6  1000007   5.6     7.00        6.4     NaN      NaN       NaN     4.75   \n",
       "7  1000008   7.2     7.50        6.0     5.0      3.5      1.75      NaN   \n",
       "8  1000009   7.6     8.25        9.0     NaN      NaN       NaN     6.50   \n",
       "9  1000010   8.2     9.50        7.0     NaN      NaN       NaN     7.25   \n",
       "\n",
       "   dia_li  gdcd ma_ngoai_ngu  \n",
       "0    6.00  9.00           N1  \n",
       "1    6.50  8.50           N1  \n",
       "2    7.50   NaN          NaN  \n",
       "3    6.25  8.25           N1  \n",
       "4    6.75  8.25           N1  \n",
       "5    7.25  9.75           N1  \n",
       "6    5.75  8.00           N1  \n",
       "7     NaN   NaN           N1  \n",
       "8    7.25  9.50           N1  \n",
       "9    6.50  8.75           N1  "
      ]
     },
     "execution_count": 11,
     "metadata": {},
     "output_type": "execute_result"
    }
   ],
   "source": [
    "data=pd.read_csv('./Data/Diem_thi_thpt_2023.csv')\n",
    "data[:10]"
   ]
  },
  {
   "cell_type": "code",
   "execution_count": 12,
   "id": "e1117528-293d-44ac-ad8d-a33c46fa5545",
   "metadata": {},
   "outputs": [],
   "source": [
    "column1 = 'toan'\n",
    "column2 = 'vat_li'\n",
    "column3 = 'hoa_hoc'"
   ]
  },
  {
   "cell_type": "code",
   "execution_count": 13,
   "id": "88def0af-0eef-4636-991a-0df402e6af85",
   "metadata": {},
   "outputs": [],
   "source": [
    "data['total_1'] = data[column1] + data[column2] + data[column3]"
   ]
  },
  {
   "cell_type": "code",
   "execution_count": 14,
   "id": "da58c48f-4114-49b5-af8a-f4f69a6b6566",
   "metadata": {},
   "outputs": [],
   "source": [
    "y=data['total_1']"
   ]
  },
  {
   "cell_type": "code",
   "execution_count": 22,
   "id": "8c75a2ae-9a85-41e4-b4db-5c18986cd880",
   "metadata": {},
   "outputs": [],
   "source": [
    "plt.style.available\n",
    "plt.style.use('dark_background')\n"
   ]
  },
  {
   "cell_type": "code",
   "execution_count": 30,
   "id": "6e34d62f-2995-4a9d-aab1-f1cd7b10a6ac",
   "metadata": {},
   "outputs": [
    {
     "data": {
      "text/plain": [
       "<matplotlib.legend.Legend at 0x217188f0d50>"
      ]
     },
     "execution_count": 30,
     "metadata": {},
     "output_type": "execute_result"
    },
    {
     "data": {
      "image/png": "[encoded data removed]",
      "text/plain": [
       "<Figure size 640x480 with 1 Axes>"
      ]
     },
     "metadata": {},
     "output_type": "display_data"
    }
   ],
   "source": [
    "plt.hist(y, bins=300,color=\"white\",linestyle=\"dashed\", label = \"student\");\n",
    "\n",
    "plt.title(\"A0\")\n",
    "plt.xlabel(\"mark\")\n",
    "plt.ylabel(\"quality\");\n",
    "plt.legend()"
   ]
  },
  {
   "cell_type": "code",
   "execution_count": 24,
   "id": "5e4d4b5d-22f1-4a35-ad43-77b1fb42618e",
   "metadata": {},
   "outputs": [],
   "source": [
    "column4 = 'ngu_van'\n",
    "column5 = 'hoa_hoc'"
   ]
  },
  {
   "cell_type": "code",
   "execution_count": 25,
   "id": "1a210081-65eb-4c81-ace3-17cd7fb96817",
   "metadata": {},
   "outputs": [],
   "source": [
    "data['total_2'] = data[column1] + data[column4] + data[column5]"
   ]
  },
  {
   "cell_type": "code",
   "execution_count": 26,
   "id": "deac1f59-d157-46f4-973a-27175dabdf14",
   "metadata": {},
   "outputs": [],
   "source": [
    "z=data['total_2']"
   ]
  },
  {
   "cell_type": "code",
   "execution_count": 31,
   "id": "a2858bd2-03d8-4e3d-8b94-8f47c19e0e76",
   "metadata": {},
   "outputs": [
    {
     "data": {
      "text/plain": [
       "<matplotlib.legend.Legend at 0x2171f334b10>"
      ]
     },
     "execution_count": 31,
     "metadata": {},
     "output_type": "execute_result"
    },
    {
     "data": {
      "image/png": "[encoded data removed]",
      "text/plain": [
       "<Figure size 640x480 with 1 Axes>"
      ]
     },
     "metadata": {},
     "output_type": "display_data"
    }
   ],
   "source": [
    "plt.hist(z, bins=300,color=\"white\",linestyle=\"dashed\", label = \"student\");\n",
    "\n",
    "plt.title(\"A1\")\n",
    "plt.xlabel(\"mark\")\n",
    "plt.ylabel(\"quality\");\n",
    "plt.legend()"
   ]
  }
 ],
 "metadata": {
  "kernelspec": {
   "display_name": "Python 3 (ipykernel)",
   "language": "python",
   "name": "python3"
  },
  "language_info": {
   "codemirror_mode": {
    "name": "ipython",
    "version": 3
   },
   "file_extension": ".py",
   "mimetype": "text/x-python",
   "name": "python",
   "nbconvert_exporter": "python",
   "pygments_lexer": "ipython3",
   "version": "3.11.7"
  }
 },
 "nbformat": 4,
 "nbformat_minor": 5
}
